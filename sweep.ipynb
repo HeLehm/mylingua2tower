{
 "cells": [
  {
   "cell_type": "code",
   "execution_count": null,
   "metadata": {},
   "outputs": [],
   "source": [
    "import wandb\n",
    "\n",
    "from mylingua2tower.utils.mind import get_mind_train, get_mind_val, get_hprarams\n",
    "from mylingua2tower.iterator import MINDIterator\n",
    "from mylingua2tower.nrms import NRMSModel"
   ]
  },
  {
   "cell_type": "code",
   "execution_count": null,
   "metadata": {},
   "outputs": [],
   "source": [
    "MIND_type = 'demo'\n",
    "seed = 42\n",
    "\n",
    "from src.utils.paths import get_mind_dir, get_glove_dir\n",
    "\n",
    "mind_data_dir = get_mind_dir()\n",
    "glove_dir = get_glove_dir()"
   ]
  },
  {
   "cell_type": "code",
   "execution_count": null,
   "metadata": {},
   "outputs": [],
   "source": [
    "wandb.login()"
   ]
  },
  {
   "cell_type": "code",
   "execution_count": null,
   "metadata": {},
   "outputs": [],
   "source": [
    "def main(wandb_config):\n",
    "    run = wandb.init(project='mylingua2towernrms')\n",
    "    wandb_config = wandb.config\n",
    "    \n",
    "    hparams = get_hprarams(\n",
    "        MIND_type,\n",
    "        head_num=16,\n",
    "        head_dim=16,\n",
    "        his_size=10,\n",
    "        seed=seed,\n",
    "        word_emb_dim=wandb_config.word_emb_dim,\n",
    "        learning_rate=0.0001,\n",
    "        mind_data_dir=mind_data_dir,\n",
    "        glove_dir=glove_dir,\n",
    "    )\n",
    "\n",
    "    t_news, t_behaviors = get_mind_train(hparams)\n",
    "    v_news, v_behaviors = get_mind_val(hparams)\n",
    "\n",
    "    iterator = MINDIterator\n",
    "    model = NRMSModel(hparams, iterator, seed=seed)\n",
    "    model.fit(t_news, t_behaviors, v_news, v_behaviors, wandb_log=True)"
   ]
  },
  {
   "cell_type": "code",
   "execution_count": null,
   "metadata": {},
   "outputs": [],
   "source": [
    "sweep_configuration = {\n",
    "    'method': 'random',\n",
    "    'name': 'sweep_his_10',\n",
    "    'metric': {'goal': 'maximize', 'name': 'val_group_auc'},\n",
    "    'parameters': \n",
    "    {\n",
    "        'word_emb_dim': {'values': [50, 100, 200, 300]},\n",
    "     }\n",
    "}"
   ]
  },
  {
   "cell_type": "code",
   "execution_count": null,
   "metadata": {},
   "outputs": [],
   "source": [
    "\n",
    "sweep_id = wandb.sweep(sweep=sweep_configuration, project='mylingua2towernrms')"
   ]
  },
  {
   "cell_type": "code",
   "execution_count": null,
   "metadata": {},
   "outputs": [],
   "source": [
    "wandb.agent(sweep_id, function=main, count=10)"
   ]
  }
 ],
 "metadata": {
  "kernelspec": {
   "display_name": "Python 3",
   "language": "python",
   "name": "python3"
  },
  "language_info": {
   "codemirror_mode": {
    "name": "ipython",
    "version": 3
   },
   "file_extension": ".py",
   "mimetype": "text/x-python",
   "name": "python",
   "nbconvert_exporter": "python",
   "pygments_lexer": "ipython3",
   "version": "3.9.15"
  },
  "orig_nbformat": 4,
  "vscode": {
   "interpreter": {
    "hash": "aee8b7b246df8f9039afb4144a1f6fd8d2ca17a180786b69acc140d282b71a49"
   }
  }
 },
 "nbformat": 4,
 "nbformat_minor": 2
}
