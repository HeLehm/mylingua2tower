{
 "cells": [
  {
   "cell_type": "markdown",
   "metadata": {},
   "source": []
  },
  {
   "cell_type": "code",
   "execution_count": 1,
   "metadata": {},
   "outputs": [],
   "source": [
    "from tqdm import tqdm\n",
    "from src.trainer import Model\n",
    "from src.mind import MINDDataLoader"
   ]
  },
  {
   "cell_type": "code",
   "execution_count": 2,
   "metadata": {},
   "outputs": [],
   "source": [
    "train_data = MINDDataLoader(batch_size=2, validation=False)"
   ]
  },
  {
   "cell_type": "code",
   "execution_count": 3,
   "metadata": {},
   "outputs": [
    {
     "name": "stderr",
     "output_type": "stream",
     "text": [
      "  0%|          | 0/11017 [00:00<?, ?it/s]\n"
     ]
    }
   ],
   "source": [
    "for batch in tqdm(train_data):\n",
    "    \n",
    "    break"
   ]
  },
  {
   "cell_type": "code",
   "execution_count": 4,
   "metadata": {},
   "outputs": [
    {
     "data": {
      "text/plain": [
       "([['These Stunning Photos of a Military Dad Reuniting With His Family Will Make Your Heart Swell',\n",
       "   'NFL world reacts to officials handing Packers win over Lions',\n",
       "   'Matt Lauer allegations: Megyn Kelly lauds Meredith Vieira, Ann Curry',\n",
       "   'How to Improve 15 New Fall TV Shows (2019)',\n",
       "   'Josh Hamilton arrested on felony charge of injury to a child',\n",
       "   'Oklahoma news anchor diagnosed with breast cancer after streaming first-ever mammogram on Facebook Live'],\n",
       "  ['Panera Bread worker fired after TikTok exposed frozen mac and cheese',\n",
       "   \"'Wheel Of Fortune' Guest Delivers Hilarious, Off The Rails Introduction\",\n",
       "   \"Four flight attendants were arrested in Miami's airport after bringing in thousands in cash, police say\",\n",
       "   \"3 reasons I bought a house after swearing I'd rent for life\",\n",
       "   \"Every Russian National Should Be 'Extremely Careful' When Traveling to the U.S., Says Ambassador\",\n",
       "   'Michigan apples being recalled in eight states for possible Listeria contamination',\n",
       "   'Kroger accepting Visa credit cards again after banning them',\n",
       "   \"The world's largest nuclear power producer is melting down\",\n",
       "   \"The 25 US cities where it's easiest to get a mortgage\",\n",
       "   \"NYPD Commissioner James O'Neill To Resign: Reports\",\n",
       "   \"13 Ways You're Shortening the Life of Your Car\"]],\n",
       " [['See what your favorite stars look like without makeup',\n",
       "   'Lance Altimeter Is A Delicious Drop-In Truck Camper Debuting At SEMA',\n",
       "   'Jordyn Woods debuts shocking new look: Pic',\n",
       "   'The Sexiest Photos Ever of Our 29 Sexiest Men Alive',\n",
       "   'SEMA 2019 Photo Highlights From Las Vegas',\n",
       "   'Should You Try the Controversial Cabbage Soup Diet? See What Experts Have to Say',\n",
       "   'The keto diet is hard work   but this hack makes it so much easier',\n",
       "   'NHL Power Rankings: The quiet dominance of the Capitals',\n",
       "   \"Gwen Stefani Sets the Record Straight on That Diamond Ring at 2019 People's Choice Awards\",\n",
       "   'Take action: Join MSN, LinkedIn and Team Rubicon in helping veterans become thriving civilians',\n",
       "   'Ree Drummond Says a Low-Carb Diet Is the Secret to Her Incredible Weight Loss',\n",
       "   'Do Modern Cooks Still Need Joy of Cooking?',\n",
       "   'FAA threatened to ground 38 Southwest Airlines jets over maintenance concerns, report says',\n",
       "   'T-Mobile CEO John Legere in talks to take over top job at WeWork',\n",
       "   \"Jamie Dimon: The '60 Minutes' interview\",\n",
       "   \"Tamron Hall Talks Leaving the Today Show, Jokes About Megyn Kelly's Reported Multimillion Payout\",\n",
       "   \"Instagram-famous pilot reveals secrets people don't know about the job\",\n",
       "   \"Meghan Markle Chose a Black Brocade Dress For the Royal Family's Important Outing\",\n",
       "   'Best country music albums of all time',\n",
       "   'How the Trump Administration Eroded Its Own Legal Case on DACA',\n",
       "   'Meghan Markle Chose a Chic Black Ensemble for Remembrance Sunday Services',\n",
       "   \"Flight Attendants Have a Secret Language You Didn't Know About\",\n",
       "   \"This 'new' strain of HIV is actually a good thing\",\n",
       "   \"'Unthinkable': Accused killer of Georgia college student Alexis Crawford spent holidays with victim's family\",\n",
       "   'Coyotes sign GM John Chayka to a multi-year extension',\n",
       "   'Evo Morales of Bolivia Accepts Asylum in Mexico',\n",
       "   \"Ilhan Omar blasts Pete King as an 'Islamophobe' after he announces retirement: 'Good riddance'\",\n",
       "   'Democrats release three new transcripts as part of impeachment inquiry',\n",
       "   '12 Military-Themed TV Shows to Binge-Watch on Veterans Day',\n",
       "   'Every touchdown from every Week 10 game',\n",
       "   \"RHOP's Monique Samuels Charged With Assault After Incident With Candiace Dillard\",\n",
       "   'Report: Ohio State asks NCAA to reinstate star DL Chase Young immediately',\n",
       "   \"How a little-known GOP lawmaker became a point man in Trump's impeachment defense\",\n",
       "   'This is Why Queen Elizabeth Wears So Many Poppies on Remembrance Day',\n",
       "   \"We tried McDonald's new Snickerdoodle McFlurry, and here's our honest review\",\n",
       "   \"Uber CEO's defense of Saudi murder sparks calls for boycott\",\n",
       "   'Mulvaney Request to Join Subpoena Lawsuit Opposed by House',\n",
       "   'Former U.S. top diplomat Rice concerned by shadow diplomacy on Ukraine',\n",
       "   \"People's Choice Awards 2019: Red Carpet Fashion\",\n",
       "   'This High Cholesterol Diet Plan Will Lower Your Cholesterol Numbers',\n",
       "   \"Burning questions for Seahawks vs 49ers on 'Monday Night Football'\",\n",
       "   'The Most Amazing Photos of a Young Dolly Parton',\n",
       "   \"Joe Giudice Calls His Family 'Italian Strong' During Reunion with Wife Teresa and Their Daughters\",\n",
       "   \"Katie Couric Says Matt Lauer 'Ultimately Turned Out to Be Two Very Different People'\",\n",
       "   \"'Dancing with the Stars': Why Sean Spicer survives despite the lowest judge scores\",\n",
       "   \"'Stay alert': millions of Australians brace for 'catastrophic' bushfires\",\n",
       "   'Martha Stewart shares the family favorites she serves during the holidays, including adding cream cheese to her mashed potatoes',\n",
       "   'Jess Lost 75 Pounds Without Counting Calories and Did This 1 Inspiring Thing Before Every Meal',\n",
       "   'Stars Who Served in the Military',\n",
       "   \"Kim Kardashian West says she's gained 18 pounds in the past year\",\n",
       "   'Celebrity plastic surgery transformations',\n",
       "   'A body-language expert says Meghan Markle is \"politely disconnecting\" from the public, and honestly, we would too',\n",
       "   'How Russia Meddles Abroad for Profit: Cash, Trolls and a Cult Leader',\n",
       "   'The 10 Most Popular Wines in America, Ranked',\n",
       "   'Can you answer these real Jeopardy questions about TV shows?',\n",
       "   \"Columbus Blue Jackets' Nick Foligno suspended three games for elbowing Pierre-Edouard Bellemare\",\n",
       "   'White House struggles to get in sync on impeachment',\n",
       "   'Dodge Put the Wrong Wheels on 173 New Challengers and Chargers',\n",
       "   'Myanmar accused at UN court of genocide against Rohingya',\n",
       "   'A former royal bodyguard shared the challenges that come with protecting the royal family',\n",
       "   'Fast food cashier and manager fired for refusing to serve police officer',\n",
       "   \"Mixed-race mother reveals strangers question whether she's related to her fair-skinned daughter - including a suspicious church-goer who asked the girl: 'Is this your Mummy?'\",\n",
       "   'Steph Curry seems to have added Michael Jordan to his list of haters',\n",
       "   \"Dramatic Footage Shows Plane Skidding Off Runway at O'Hare Airport in Chicago\",\n",
       "   '40 Celebrities You Forgot Used to Rock Long Hair',\n",
       "   'Charles Rogers, former Michigan State football, Detroit Lions star, dead at 38',\n",
       "   'What Happens When a Plane Collides with a Flock of Birds?',\n",
       "   '35 of the Biggest Food Recalls in U.S. History',\n",
       "   'Anna Faris and Michael Barrett may have just confirmed their engagement, plus more news',\n",
       "   'This is the dirtiest spot on a plane',\n",
       "   \"11 Fine-Dining Etiquette Rules You've Probably Broken Your Whole Life\",\n",
       "   'These Are The Best Harley-Davidson Motorcycles You Can Get For The Cheap',\n",
       "   \"Ugly From the Outset: Hong Kong's Day of Widespread Violence\",\n",
       "   'New Hampshire woman enlists candidates to send cards to troops',\n",
       "   'In Defense Of Left Foot-Braking During Normal Street Driving',\n",
       "   'This Is How Much It Really Takes to Lose One Pound',\n",
       "   \"Take That! BIP's Hannah G. Claps Back After Mispronouncing 'Gnocchi'\",\n",
       "   \"PEOPLE's Sexiest Men Alive: Still Sexy After All These Years\",\n",
       "   \"Rip Taylor's Cause of Death Revealed, Memorial Service Scheduled for Later This Month\",\n",
       "   'Halle Berry Shares Photo of 6-Pack Abs on Instagram and Her Fans are Freaking Out',\n",
       "   'Subway gets into bitter battle with store owners',\n",
       "   'The 10 most surprising developments of the NHL season',\n",
       "   \"'I Have Waited 68 Years to See This': How Honor Flights Help Veterans Reflect\",\n",
       "   \"Stars who've had more than one wedding with the same spouse\",\n",
       "   \"See All the Best Looks From the 2019 People's Choice Awards\",\n",
       "   'Fans are divided after Drake was revealed as a surprise festival headliner, booed off stage',\n",
       "   \"Rebirth, angst and the 'new normal' of California wildfires\"],\n",
       "  [\"Carrie Underwood Praises Miranda Lambert as 'Super Supportive': 'We Lift Each Other Up'\",\n",
       "   '56 Hottest Holiday Gifts from Amazon',\n",
       "   \"The Latest Weight Loss Pills That Work And the Ones That Don't\",\n",
       "   \"Stephen Curry calls out Michael Jordan for being a 'hater'\",\n",
       "   'Dean Foods files for bankruptcy',\n",
       "   'Supreme Court refuses to block lawsuit against gun manufacturer brought by Sandy Hook families',\n",
       "   'The son of a Chinese billionaire has been banned from flying first class, playing golf, buying property, or going clubbing']],\n",
       " [44, 4])"
      ]
     },
     "execution_count": 4,
     "metadata": {},
     "output_type": "execute_result"
    }
   ],
   "source": [
    "batch"
   ]
  },
  {
   "cell_type": "code",
   "execution_count": 5,
   "metadata": {},
   "outputs": [
    {
     "data": {
      "text/plain": [
       "[['These Stunning Photos of a Military Dad Reuniting With His Family Will Make Your Heart Swell',\n",
       "  'NFL world reacts to officials handing Packers win over Lions',\n",
       "  'Matt Lauer allegations: Megyn Kelly lauds Meredith Vieira, Ann Curry',\n",
       "  'How to Improve 15 New Fall TV Shows (2019)',\n",
       "  'Josh Hamilton arrested on felony charge of injury to a child',\n",
       "  'Oklahoma news anchor diagnosed with breast cancer after streaming first-ever mammogram on Facebook Live'],\n",
       " ['Panera Bread worker fired after TikTok exposed frozen mac and cheese',\n",
       "  \"'Wheel Of Fortune' Guest Delivers Hilarious, Off The Rails Introduction\",\n",
       "  \"Four flight attendants were arrested in Miami's airport after bringing in thousands in cash, police say\",\n",
       "  \"3 reasons I bought a house after swearing I'd rent for life\",\n",
       "  \"Every Russian National Should Be 'Extremely Careful' When Traveling to the U.S., Says Ambassador\",\n",
       "  'Michigan apples being recalled in eight states for possible Listeria contamination',\n",
       "  'Kroger accepting Visa credit cards again after banning them',\n",
       "  \"The world's largest nuclear power producer is melting down\",\n",
       "  \"The 25 US cities where it's easiest to get a mortgage\",\n",
       "  \"NYPD Commissioner James O'Neill To Resign: Reports\",\n",
       "  \"13 Ways You're Shortening the Life of Your Car\"]]"
      ]
     },
     "execution_count": 5,
     "metadata": {},
     "output_type": "execute_result"
    }
   ],
   "source": [
    "batch[0]"
   ]
  },
  {
   "cell_type": "code",
   "execution_count": 6,
   "metadata": {},
   "outputs": [
    {
     "data": {
      "text/plain": [
       "[['See what your favorite stars look like without makeup',\n",
       "  'Lance Altimeter Is A Delicious Drop-In Truck Camper Debuting At SEMA',\n",
       "  'Jordyn Woods debuts shocking new look: Pic',\n",
       "  'The Sexiest Photos Ever of Our 29 Sexiest Men Alive',\n",
       "  'SEMA 2019 Photo Highlights From Las Vegas',\n",
       "  'Should You Try the Controversial Cabbage Soup Diet? See What Experts Have to Say',\n",
       "  'The keto diet is hard work   but this hack makes it so much easier',\n",
       "  'NHL Power Rankings: The quiet dominance of the Capitals',\n",
       "  \"Gwen Stefani Sets the Record Straight on That Diamond Ring at 2019 People's Choice Awards\",\n",
       "  'Take action: Join MSN, LinkedIn and Team Rubicon in helping veterans become thriving civilians',\n",
       "  'Ree Drummond Says a Low-Carb Diet Is the Secret to Her Incredible Weight Loss',\n",
       "  'Do Modern Cooks Still Need Joy of Cooking?',\n",
       "  'FAA threatened to ground 38 Southwest Airlines jets over maintenance concerns, report says',\n",
       "  'T-Mobile CEO John Legere in talks to take over top job at WeWork',\n",
       "  \"Jamie Dimon: The '60 Minutes' interview\",\n",
       "  \"Tamron Hall Talks Leaving the Today Show, Jokes About Megyn Kelly's Reported Multimillion Payout\",\n",
       "  \"Instagram-famous pilot reveals secrets people don't know about the job\",\n",
       "  \"Meghan Markle Chose a Black Brocade Dress For the Royal Family's Important Outing\",\n",
       "  'Best country music albums of all time',\n",
       "  'How the Trump Administration Eroded Its Own Legal Case on DACA',\n",
       "  'Meghan Markle Chose a Chic Black Ensemble for Remembrance Sunday Services',\n",
       "  \"Flight Attendants Have a Secret Language You Didn't Know About\",\n",
       "  \"This 'new' strain of HIV is actually a good thing\",\n",
       "  \"'Unthinkable': Accused killer of Georgia college student Alexis Crawford spent holidays with victim's family\",\n",
       "  'Coyotes sign GM John Chayka to a multi-year extension',\n",
       "  'Evo Morales of Bolivia Accepts Asylum in Mexico',\n",
       "  \"Ilhan Omar blasts Pete King as an 'Islamophobe' after he announces retirement: 'Good riddance'\",\n",
       "  'Democrats release three new transcripts as part of impeachment inquiry',\n",
       "  '12 Military-Themed TV Shows to Binge-Watch on Veterans Day',\n",
       "  'Every touchdown from every Week 10 game',\n",
       "  \"RHOP's Monique Samuels Charged With Assault After Incident With Candiace Dillard\",\n",
       "  'Report: Ohio State asks NCAA to reinstate star DL Chase Young immediately',\n",
       "  \"How a little-known GOP lawmaker became a point man in Trump's impeachment defense\",\n",
       "  'This is Why Queen Elizabeth Wears So Many Poppies on Remembrance Day',\n",
       "  \"We tried McDonald's new Snickerdoodle McFlurry, and here's our honest review\",\n",
       "  \"Uber CEO's defense of Saudi murder sparks calls for boycott\",\n",
       "  'Mulvaney Request to Join Subpoena Lawsuit Opposed by House',\n",
       "  'Former U.S. top diplomat Rice concerned by shadow diplomacy on Ukraine',\n",
       "  \"People's Choice Awards 2019: Red Carpet Fashion\",\n",
       "  'This High Cholesterol Diet Plan Will Lower Your Cholesterol Numbers',\n",
       "  \"Burning questions for Seahawks vs 49ers on 'Monday Night Football'\",\n",
       "  'The Most Amazing Photos of a Young Dolly Parton',\n",
       "  \"Joe Giudice Calls His Family 'Italian Strong' During Reunion with Wife Teresa and Their Daughters\",\n",
       "  \"Katie Couric Says Matt Lauer 'Ultimately Turned Out to Be Two Very Different People'\",\n",
       "  \"'Dancing with the Stars': Why Sean Spicer survives despite the lowest judge scores\",\n",
       "  \"'Stay alert': millions of Australians brace for 'catastrophic' bushfires\",\n",
       "  'Martha Stewart shares the family favorites she serves during the holidays, including adding cream cheese to her mashed potatoes',\n",
       "  'Jess Lost 75 Pounds Without Counting Calories and Did This 1 Inspiring Thing Before Every Meal',\n",
       "  'Stars Who Served in the Military',\n",
       "  \"Kim Kardashian West says she's gained 18 pounds in the past year\",\n",
       "  'Celebrity plastic surgery transformations',\n",
       "  'A body-language expert says Meghan Markle is \"politely disconnecting\" from the public, and honestly, we would too',\n",
       "  'How Russia Meddles Abroad for Profit: Cash, Trolls and a Cult Leader',\n",
       "  'The 10 Most Popular Wines in America, Ranked',\n",
       "  'Can you answer these real Jeopardy questions about TV shows?',\n",
       "  \"Columbus Blue Jackets' Nick Foligno suspended three games for elbowing Pierre-Edouard Bellemare\",\n",
       "  'White House struggles to get in sync on impeachment',\n",
       "  'Dodge Put the Wrong Wheels on 173 New Challengers and Chargers',\n",
       "  'Myanmar accused at UN court of genocide against Rohingya',\n",
       "  'A former royal bodyguard shared the challenges that come with protecting the royal family',\n",
       "  'Fast food cashier and manager fired for refusing to serve police officer',\n",
       "  \"Mixed-race mother reveals strangers question whether she's related to her fair-skinned daughter - including a suspicious church-goer who asked the girl: 'Is this your Mummy?'\",\n",
       "  'Steph Curry seems to have added Michael Jordan to his list of haters',\n",
       "  \"Dramatic Footage Shows Plane Skidding Off Runway at O'Hare Airport in Chicago\",\n",
       "  '40 Celebrities You Forgot Used to Rock Long Hair',\n",
       "  'Charles Rogers, former Michigan State football, Detroit Lions star, dead at 38',\n",
       "  'What Happens When a Plane Collides with a Flock of Birds?',\n",
       "  '35 of the Biggest Food Recalls in U.S. History',\n",
       "  'Anna Faris and Michael Barrett may have just confirmed their engagement, plus more news',\n",
       "  'This is the dirtiest spot on a plane',\n",
       "  \"11 Fine-Dining Etiquette Rules You've Probably Broken Your Whole Life\",\n",
       "  'These Are The Best Harley-Davidson Motorcycles You Can Get For The Cheap',\n",
       "  \"Ugly From the Outset: Hong Kong's Day of Widespread Violence\",\n",
       "  'New Hampshire woman enlists candidates to send cards to troops',\n",
       "  'In Defense Of Left Foot-Braking During Normal Street Driving',\n",
       "  'This Is How Much It Really Takes to Lose One Pound',\n",
       "  \"Take That! BIP's Hannah G. Claps Back After Mispronouncing 'Gnocchi'\",\n",
       "  \"PEOPLE's Sexiest Men Alive: Still Sexy After All These Years\",\n",
       "  \"Rip Taylor's Cause of Death Revealed, Memorial Service Scheduled for Later This Month\",\n",
       "  'Halle Berry Shares Photo of 6-Pack Abs on Instagram and Her Fans are Freaking Out',\n",
       "  'Subway gets into bitter battle with store owners',\n",
       "  'The 10 most surprising developments of the NHL season',\n",
       "  \"'I Have Waited 68 Years to See This': How Honor Flights Help Veterans Reflect\",\n",
       "  \"Stars who've had more than one wedding with the same spouse\",\n",
       "  \"See All the Best Looks From the 2019 People's Choice Awards\",\n",
       "  'Fans are divided after Drake was revealed as a surprise festival headliner, booed off stage',\n",
       "  \"Rebirth, angst and the 'new normal' of California wildfires\"],\n",
       " [\"Carrie Underwood Praises Miranda Lambert as 'Super Supportive': 'We Lift Each Other Up'\",\n",
       "  '56 Hottest Holiday Gifts from Amazon',\n",
       "  \"The Latest Weight Loss Pills That Work And the Ones That Don't\",\n",
       "  \"Stephen Curry calls out Michael Jordan for being a 'hater'\",\n",
       "  'Dean Foods files for bankruptcy',\n",
       "  'Supreme Court refuses to block lawsuit against gun manufacturer brought by Sandy Hook families',\n",
       "  'The son of a Chinese billionaire has been banned from flying first class, playing golf, buying property, or going clubbing']]"
      ]
     },
     "execution_count": 6,
     "metadata": {},
     "output_type": "execute_result"
    }
   ],
   "source": [
    "batch[1]"
   ]
  },
  {
   "cell_type": "code",
   "execution_count": null,
   "metadata": {},
   "outputs": [],
   "source": []
  }
 ],
 "metadata": {
  "kernelspec": {
   "display_name": "Python 3",
   "language": "python",
   "name": "python3"
  },
  "language_info": {
   "codemirror_mode": {
    "name": "ipython",
    "version": 3
   },
   "file_extension": ".py",
   "mimetype": "text/x-python",
   "name": "python",
   "nbconvert_exporter": "python",
   "pygments_lexer": "ipython3",
   "version": "3.9.15"
  },
  "orig_nbformat": 4,
  "vscode": {
   "interpreter": {
    "hash": "aee8b7b246df8f9039afb4144a1f6fd8d2ca17a180786b69acc140d282b71a49"
   }
  }
 },
 "nbformat": 4,
 "nbformat_minor": 2
}
